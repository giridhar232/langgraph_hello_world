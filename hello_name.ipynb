{
 "cells": [
  {
   "cell_type": "code",
   "execution_count": 5,
   "id": "669289e1",
   "metadata": {},
   "outputs": [],
   "source": [
    "from IPython.display import display, Image\n",
    "from langgraph.graph import StateGraph, START, END\n",
    "from typing import TypedDict"
   ]
  },
  {
   "cell_type": "code",
   "execution_count": 6,
   "id": "9d1fea91",
   "metadata": {},
   "outputs": [],
   "source": [
    "class State(TypedDict):\n",
    "    name: str"
   ]
  },
  {
   "cell_type": "code",
   "execution_count": 7,
   "id": "31bccb01",
   "metadata": {},
   "outputs": [],
   "source": [
    "def hello_name(state: State):\n",
    "    print(f\"the current value of name in the state object is {state['name']}\")\n",
    "    return {\"name\": f\"Hello, {state['name']}!....\"}"
   ]
  },
  {
   "cell_type": "code",
   "execution_count": 8,
   "id": "4b5b3060",
   "metadata": {},
   "outputs": [
    {
     "data": {
      "image/png": "[encoded data removed]",
      "text/plain": [
       "<IPython.core.display.Image object>"
      ]
     },
     "metadata": {},
     "output_type": "display_data"
    },
    {
     "name": "stdout",
     "output_type": "stream",
     "text": [
      "the current value of name in the state object is World\n"
     ]
    },
    {
     "data": {
      "text/plain": [
       "{'name': 'Hello, World!....'}"
      ]
     },
     "execution_count": 8,
     "metadata": {},
     "output_type": "execute_result"
    }
   ],
   "source": [
    "graph_builder = StateGraph(State)\n",
    "\n",
    "graph_builder.add_node(\"hello_name\", hello_name)\n",
    "graph_builder.add_edge(START, \"hello_name\")\n",
    "graph_builder.add_edge(\"hello_name\", END)\n",
    "\n",
    "graph = graph_builder.compile()\n",
    "\n",
    "try:\n",
    "    display(Image(graph.get_graph().draw_mermaid_png()))\n",
    "except Exception:\n",
    "    print(\"Exception while rendering graph image\")\n",
    "\n",
    "graph.invoke({\"name\": \"World\"})"
   ]
  },
  {
   "cell_type": "code",
   "execution_count": null,
   "id": "fd905f90",
   "metadata": {},
   "outputs": [],
   "source": []
  }
 ],
 "metadata": {
  "kernelspec": {
   "display_name": "base",
   "language": "python",
   "name": "python3"
  },
  "language_info": {
   "codemirror_mode": {
    "name": "ipython",
    "version": 3
   },
   "file_extension": ".py",
   "mimetype": "text/x-python",
   "name": "python",
   "nbconvert_exporter": "python",
   "pygments_lexer": "ipython3",
   "version": "3.12.7"
  }
 },
 "nbformat": 4,
 "nbformat_minor": 5
}
